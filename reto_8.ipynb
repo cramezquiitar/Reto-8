{
  "nbformat": 4,
  "nbformat_minor": 0,
  "metadata": {
    "colab": {
      "provenance": [],
      "authorship_tag": "ABX9TyMvhbEpLdk5HJ6uU8deEiBi",
      "include_colab_link": true
    },
    "kernelspec": {
      "name": "python3",
      "display_name": "Python 3"
    },
    "language_info": {
      "name": "python"
    }
  },
  "cells": [
    {
      "cell_type": "markdown",
      "metadata": {
        "id": "view-in-github",
        "colab_type": "text"
      },
      "source": [
        "<a href=\"https://colab.research.google.com/github/cramezquiitar/Reto-8/blob/main/reto_8.ipynb\" target=\"_parent\"><img src=\"https://colab.research.google.com/assets/colab-badge.svg\" alt=\"Open In Colab\"/></a>"
      ]
    },
    {
      "cell_type": "markdown",
      "source": [
        "**De los retos anteriores selecione 3 funciones y escribalas en forma de lambdas.**"
      ],
      "metadata": {
        "id": "8_KoRFMtU1Os"
      }
    },
    {
      "cell_type": "markdown",
      "source": [
        "Reto 5:Diseñe una función que calcule la cantidad de carne de aves en kilos si se tienen N gallinas, M gallos y K pollitos cada uno pesando 6 kilos, 7 kilos y 1 kilo respectivamente."
      ],
      "metadata": {
        "id": "h8-FJ8OqU2Nm"
      }
    },
    {
      "cell_type": "code",
      "execution_count": 1,
      "metadata": {
        "colab": {
          "base_uri": "https://localhost:8080/"
        },
        "id": "ZqAouozoUiWm",
        "outputId": "8661e0c3-eebd-44ff-a5a3-ecc7a5930c5d"
      },
      "outputs": [
        {
          "output_type": "stream",
          "name": "stdout",
          "text": [
            "Ingrese la cantidad de gallinas: 4\n",
            "Ingrese la cantidad de gallos: 8\n",
            "Ingrese la cantidad de pollitos: 2\n",
            "La cantidad total de carne es: 82 kg\n"
          ]
        }
      ],
      "source": [
        "# Función lambda que calcula el total de carne de aves en kilogramos\n",
        "calcular_carne_aves = lambda cantidad_gallinas, cantidad_gallos, cantidad_pollitos: \\\n",
        "    (cantidad_gallinas * 6) + (cantidad_gallos * 7) + (cantidad_pollitos * 1)\n",
        "\n",
        "# Entrada de datos desde el usuario\n",
        "cantidad_gallinas = int(input(\"Ingrese la cantidad de gallinas: \"))\n",
        "cantidad_gallos = int(input(\"Ingrese la cantidad de gallos: \"))\n",
        "cantidad_pollitos = int(input(\"Ingrese la cantidad de pollitos: \"))\n",
        "\n",
        "# Cálculo del peso total\n",
        "peso_total_en_kilos = calcular_carne_aves(cantidad_gallinas, cantidad_gallos, cantidad_pollitos)\n",
        "\n",
        "# Mostrar el resultado\n",
        "print(\"La cantidad total de carne es:\", peso_total_en_kilos, \"kg\")"
      ]
    },
    {
      "cell_type": "markdown",
      "source": [
        "Reto 5: Haga un programa que utilice una función para calcular el valor de un préstamo C usando interés compuesto del i por n meses."
      ],
      "metadata": {
        "id": "IF6RlPJfVEj3"
      }
    },
    {
      "cell_type": "code",
      "source": [
        "# Función lambda para calcular el valor futuro de un préstamo con interés compuesto\n",
        "calcular_valor_prestamo = lambda capital_inicial, tasa_interes_mensual, cantidad_meses: \\\n",
        "    capital_inicial * (1 + tasa_interes_mensual) ** cantidad_meses\n",
        "\n",
        "# Solicitar datos al usuario\n",
        "capital_inicial = float(input(\"Ingrese el monto del préstamo (capital inicial): \"))\n",
        "tasa_interes_mensual = float(input(\"Ingrese la tasa de interés mensual (por ejemplo, 0.05 para 5%): \"))\n",
        "cantidad_meses = int(input(\"Ingrese el número de meses: \"))\n",
        "\n",
        "# Calcular el valor final del préstamo\n",
        "valor_total_prestamo = calcular_valor_prestamo(capital_inicial, tasa_interes_mensual, cantidad_meses)\n",
        "\n",
        "# Mostrar el resultado redondeado a 2 decimales\n",
        "print(\"El valor final del préstamo después de \" + str(cantidad_meses) + \" meses es: \" + str(round(valor_total_prestamo, 2)))"
      ],
      "metadata": {
        "colab": {
          "base_uri": "https://localhost:8080/"
        },
        "id": "ahi1qnHtUvmY",
        "outputId": "87d9fe5a-549b-49e1-a8f6-0a3ed2dfaab9"
      },
      "execution_count": 2,
      "outputs": [
        {
          "output_type": "stream",
          "name": "stdout",
          "text": [
            "Ingrese el monto del préstamo (capital inicial): 5000\n",
            "Ingrese la tasa de interés mensual (por ejemplo, 0.05 para 5%): 0.2\n",
            "Ingrese el número de meses: 12\n",
            "El valor final del préstamo después de 12 meses es: 44580.5\n"
          ]
        }
      ]
    },
    {
      "cell_type": "markdown",
      "source": [
        "Reto 4: Dado un número real x, construya un programa que permita determinar si el número es positivo, negativo o cero. Para cada caso de debe imprimir el texto que se especifica a continuación:"
      ],
      "metadata": {
        "id": "PyrcfyRBVPrf"
      }
    },
    {
      "cell_type": "code",
      "source": [
        "# Función lambda para clasificar un número real\n",
        "clasificar_numero = lambda numero: (\n",
        "    \"El número es positivo.\" if numero > 0 else\n",
        "    \"El número es negativo.\" if numero < 0 else\n",
        "    \"El número es cero.\"\n",
        ")\n",
        "\n",
        "# Entrada del usuario\n",
        "numero_real = float(input(\"Ingresa un número real: \"))\n",
        "\n",
        "# Clasificación e impresión del resultado\n",
        "print(clasificar_numero(numero_real))"
      ],
      "metadata": {
        "colab": {
          "base_uri": "https://localhost:8080/"
        },
        "id": "lZCgN7AyVQMD",
        "outputId": "459a8d0f-ed71-4ac5-f96c-72dc60af7951"
      },
      "execution_count": 3,
      "outputs": [
        {
          "output_type": "stream",
          "name": "stdout",
          "text": [
            "Ingresa un número real: 7\n",
            "El número es positivo.\n"
          ]
        }
      ]
    },
    {
      "cell_type": "markdown",
      "source": [
        "**De los retos anteriores selecione 3 funciones y escribalas con argumentos no definidos (*args).**"
      ],
      "metadata": {
        "id": "WZ-rHWSMVWfI"
      }
    },
    {
      "cell_type": "markdown",
      "source": [
        "Reto 5:Diseñe una función que calcule la cantidad de carne de aves en kilos si se tienen N gallinas, M gallos y K pollitos cada uno pesando 6 kilos, 7 kilos y 1 kilo respectivamente. Version con (*ARGS)"
      ],
      "metadata": {
        "id": "nw5IpGkbVfVQ"
      }
    },
    {
      "cell_type": "code",
      "source": [
        "def calcular_carne(*args):\n",
        "    # Desempaquetamos los argumentos: gallinas, gallos y pollitos\n",
        "    cantidad_gallinas, cantidad_gallos, cantidad_pollitos = args\n",
        "    # Calculamos el total de carne en kilogramos\n",
        "    total_kilos = (cantidad_gallinas * 6) + (cantidad_gallos * 7) + (cantidad_pollitos * 1)\n",
        "    return total_kilos\n",
        "\n",
        "# Entrada de datos del usuario\n",
        "cantidad_gallinas = int(input(\"Ingrese el número de gallinas: \"))\n",
        "cantidad_gallos = int(input(\"Ingrese el número de gallos: \"))\n",
        "cantidad_pollitos = int(input(\"Ingrese el número de pollitos: \"))\n",
        "\n",
        "# Llamada a la función usando los valores ingresados\n",
        "carne_total = calcular_carne(cantidad_gallinas, cantidad_gallos, cantidad_pollitos)\n",
        "\n",
        "# Mostrar el resultado\n",
        "print(\"La cantidad total de carne es: \" + str(carne_total) + \" kilos\")"
      ],
      "metadata": {
        "colab": {
          "base_uri": "https://localhost:8080/"
        },
        "id": "bnpBwCBrVgDF",
        "outputId": "3b721629-928b-4429-ad25-d16d8446191c"
      },
      "execution_count": 4,
      "outputs": [
        {
          "output_type": "stream",
          "name": "stdout",
          "text": [
            "Ingrese el número de gallinas: 4\n",
            "Ingrese el número de gallos: 8\n",
            "Ingrese el número de pollitos: 2\n",
            "La cantidad total de carne es: 82 kilos\n"
          ]
        }
      ]
    },
    {
      "cell_type": "markdown",
      "source": [
        "Reto 5: Haga un programa que utilice una función para calcular el valor de un préstamo C usando interés compuesto del i por n meses."
      ],
      "metadata": {
        "id": "MuDyuPiuV-PS"
      }
    },
    {
      "cell_type": "code",
      "source": [
        "def calcular_valor_prestamo(*args):\n",
        "    # Desempaquetamos los argumentos: capital, tasa de interés y número de meses\n",
        "    capital_inicial, tasa_interes_mensual, cantidad_meses = args\n",
        "    # Fórmula de interés compuesto\n",
        "    valor_final = capital_inicial * (1 + tasa_interes_mensual) ** cantidad_meses\n",
        "    return valor_final\n",
        "\n",
        "# Entrada de datos del usuario\n",
        "capital = float(input(\"Ingrese el monto del préstamo (capital inicial): \"))\n",
        "tasa = float(input(\"Ingrese la tasa de interés mensual (por ejemplo, 0.05 para 5%): \"))\n",
        "meses = int(input(\"Ingrese el número de meses: \"))\n",
        "\n",
        "# Llamada a la función usando los valores ingresados\n",
        "monto_final = calcular_valor_prestamo(capital, tasa, meses)\n",
        "\n",
        "# Mostrar el resultado redondeado a 2 decimales\n",
        "print(\"El valor final del préstamo después de \" + str(meses) + \" meses es: \" + str(round(monto_final, 2)))"
      ],
      "metadata": {
        "colab": {
          "base_uri": "https://localhost:8080/"
        },
        "id": "gHqzpnB-V-fO",
        "outputId": "6b079253-9363-452d-f28b-9e145587bf6f"
      },
      "execution_count": 5,
      "outputs": [
        {
          "output_type": "stream",
          "name": "stdout",
          "text": [
            "Ingrese el monto del préstamo (capital inicial): 5000\n",
            "Ingrese la tasa de interés mensual (por ejemplo, 0.05 para 5%): 0.02\n",
            "Ingrese el número de meses: 12\n",
            "El valor final del préstamo después de 12 meses es: 6341.21\n"
          ]
        }
      ]
    },
    {
      "cell_type": "markdown",
      "source": [
        "Reto 4: Dado un número real x, construya un programa que permita determinar si el número es positivo, negativo o cero. Para cada caso de debe imprimir el texto que se especifica a continuación:"
      ],
      "metadata": {
        "id": "pXRHFw-fWLQJ"
      }
    },
    {
      "cell_type": "code",
      "source": [
        "def clasificar_numero(*args):\n",
        "    # Desempaquetamos el único argumento recibido\n",
        "    numero_real = args[0]\n",
        "\n",
        "    # Clasificamos el número según su valor\n",
        "    if numero_real > 0:\n",
        "        return \"El número es positivo.\"\n",
        "    elif numero_real < 0:\n",
        "        return \"El número es negativo.\"\n",
        "    else:\n",
        "        return \"El número es cero.\"\n",
        "\n",
        "# Entrada del usuario\n",
        "numero_ingresado = float(input(\"Ingresa un número real: \"))\n",
        "\n",
        "# Llamamos la función usando *args\n",
        "resultado = clasificar_numero(numero_ingresado)\n",
        "\n",
        "# Mostramos el resultado\n",
        "print(resultado)\n"
      ],
      "metadata": {
        "colab": {
          "base_uri": "https://localhost:8080/"
        },
        "id": "c9yXs2gxWO4b",
        "outputId": "720ab8c7-2e75-4507-d1fe-fd6b6514cd29"
      },
      "execution_count": 6,
      "outputs": [
        {
          "output_type": "stream",
          "name": "stdout",
          "text": [
            "Ingresa un número real: 7\n",
            "El número es positivo.\n"
          ]
        }
      ]
    },
    {
      "cell_type": "markdown",
      "source": [
        "**Escriba una función recursiva para calcular la operación de la potencia.**"
      ],
      "metadata": {
        "id": "WoA8saz_WST9"
      }
    },
    {
      "cell_type": "code",
      "source": [
        "# Definimos una función recursiva para calcular la potencia\n",
        "def potencia(base, exponente):\n",
        "    # Caso base: cualquier número elevado a 0 es 1\n",
        "    if exponente == 0:\n",
        "        return 1\n",
        "    else:\n",
        "        # Llamada recursiva: multiplicamos la base por la función con exponente reducido en 1\n",
        "        return base * potencia(base, exponente - 1)\n",
        "# Entrada de datos por teclado\n",
        "# Pedimos al usuario que ingrese la base como número decimal\n",
        "base = float(input(\"Ingrese la base: \"))\n",
        "\n",
        "# Pedimos al usuario que ingrese el exponente como número entero\n",
        "exponente = int(input(\"Ingrese el exponente: \"))\n",
        "# Cálculo usando la función\n",
        "# Llamamos a la función potencia con los valores ingresados\n",
        "resultado = potencia(base, exponente)\n",
        "# Imprimimos el resultado cccon el mensaje\n",
        "print(\"El resultado de \" + str(base) + \" elevado a la \" + str(exponente) + \" es \" + str(resultado))"
      ],
      "metadata": {
        "colab": {
          "base_uri": "https://localhost:8080/"
        },
        "id": "Pe-7KyCXWSsy",
        "outputId": "1c15b94a-9b43-4eb6-a75e-fb2f361cf7a1"
      },
      "execution_count": 7,
      "outputs": [
        {
          "output_type": "stream",
          "name": "stdout",
          "text": [
            "Ingrese la base: 2\n",
            "Ingrese el exponente: 4\n",
            "El resultado de 2.0 elevado a la 4 es 16.0\n"
          ]
        }
      ]
    },
    {
      "cell_type": "markdown",
      "source": [
        "**Realice pruebas para calcular fibonacci con iteración o con recursión. Determine desde que número de la serie la diferencia de tiempo se vuelve significativa. Con Iteracion:**"
      ],
      "metadata": {
        "id": "RdfPJxbqWdNg"
      }
    },
    {
      "cell_type": "code",
      "source": [
        "import time  # Importamos el módulo para medir tiempo\n",
        "\n",
        "# Definimos la función recursiva\n",
        "def fibonacci_recursivo(numero):\n",
        "    # Caso base 1: si el número es 0, devolvemos 0\n",
        "    if numero == 0:\n",
        "        return 0\n",
        "    # Caso base 2: si el número es 1, devolvemos 1\n",
        "    elif numero == 1:\n",
        "        return 1\n",
        "    else:\n",
        "        # Llamada recursiva: sumamos el resultado de los dos anteriores\n",
        "        return fibonacci_recursivo(numero - 1) + fibonacci_recursivo(numero - 2)\n",
        "\n",
        "# Ingresar número de la serie a calcular\n",
        "numero_usuario = int(input(\"Ingrese un número para calcular Fibonacci (recursivo): \"))\n",
        "\n",
        "# Medir tiempo de ejecución\n",
        "tiempo_inicial = time.time()  # Guardamos el tiempo antes de ejecutar\n",
        "resultado = fibonacci_recursivo(numero_usuario)  # Ejecutamos la función\n",
        "tiempo_final = time.time()  # Guardamos el tiempo después de ejecutar\n",
        "\n",
        "# Calculamos cuánto tiempo tardó\n",
        "duracion = tiempo_final - tiempo_inicial\n",
        "\n",
        "# Mostrar resultados\n",
        "print(\"El número Fibonacci en la posición\", numero_usuario, \"es\", resultado)\n",
        "print(\"Tiempo de ejecución (recursivo):\", duracion, \"segundos\")"
      ],
      "metadata": {
        "colab": {
          "base_uri": "https://localhost:8080/"
        },
        "id": "aupYxE3WWkgF",
        "outputId": "5258c9e1-dfa2-4e83-9821-6aa2fc0b2418"
      },
      "execution_count": 8,
      "outputs": [
        {
          "output_type": "stream",
          "name": "stdout",
          "text": [
            "Ingrese un número para calcular Fibonacci (recursivo): 8\n",
            "El número Fibonacci en la posición 8 es 21\n",
            "Tiempo de ejecución (recursivo): 8.249282836914062e-05 segundos\n"
          ]
        }
      ]
    },
    {
      "cell_type": "markdown",
      "source": [
        "Con recursión:"
      ],
      "metadata": {
        "id": "jC415UssWo6_"
      }
    },
    {
      "cell_type": "code",
      "source": [
        "import time  # Importamos el módulo para medir tiempo\n",
        "\n",
        "# Definimos la función iterativa\n",
        "def fibonacci_iterativo(numero):\n",
        "    valor_anterior = 0  # F(0)\n",
        "    valor_actual = 1    # F(1)\n",
        "\n",
        "    # Si el número es 0, devolvemos 0\n",
        "    if numero == 0:\n",
        "        return valor_anterior\n",
        "\n",
        "    # Repetimos el cálculo hasta llegar al número deseado\n",
        "    for contador in range(1, numero):\n",
        "        suma = valor_anterior + valor_actual  # Sumamos los dos últimos valores\n",
        "        valor_anterior = valor_actual         # Avanzamos los valores\n",
        "        valor_actual = suma\n",
        "\n",
        "    return valor_actual  # Este es el número de Fibonacci en esa posición\n",
        "\n",
        "# Ingresar número de la serie a calcular\n",
        "numero_usuario = int(input(\"Ingrese un número para calcular Fibonacci (iterativo): \"))\n",
        "\n",
        "# Medir tiempo de ejecución\n",
        "tiempo_inicial = time.time()\n",
        "resultado = fibonacci_iterativo(numero_usuario)\n",
        "tiempo_final = time.time()\n",
        "\n",
        "# Calculamos cuánto tiempo tardó\n",
        "duracion = tiempo_final - tiempo_inicial\n",
        "\n",
        "# Mostrar resultados\n",
        "print(\"El número Fibonacci en la posición\", numero_usuario, \"es\", resultado)\n",
        "print(\"Tiempo de ejecución (iterativo):\", duracion, \"segundos\")"
      ],
      "metadata": {
        "colab": {
          "base_uri": "https://localhost:8080/"
        },
        "id": "bWsg3C09Wq45",
        "outputId": "241106fb-fa71-4e02-99e7-4b458d102d82"
      },
      "execution_count": 9,
      "outputs": [
        {
          "output_type": "stream",
          "name": "stdout",
          "text": [
            "Ingrese un número para calcular Fibonacci (iterativo): 8\n",
            "El número Fibonacci en la posición 8 es 21\n",
            "Tiempo de ejecución (iterativo): 0.00010061264038085938 segundos\n"
          ]
        }
      ]
    }
  ]
}